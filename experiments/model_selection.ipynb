{
 "cells": [
  {
   "cell_type": "code",
   "execution_count": null,
   "metadata": {},
   "outputs": [],
   "source": []
  },
  {
   "cell_type": "markdown",
   "metadata": {},
   "source": [
    "Modèles à tester : \n",
    "- Régression linéaire\n",
    "- SGD\n",
    "- DNN"
   ]
  },
  {
   "cell_type": "code",
   "execution_count": 1,
   "metadata": {},
   "outputs": [
    {
     "name": "stdout",
     "output_type": "stream",
     "text": [
      "(300000, 2547)\n"
     ]
    }
   ],
   "source": [
    "# Chargement des données\n",
    "import pickle\n",
    "import numpy as np\n",
    "import pandas as pd\n",
    "from sklearn.preprocessing import OneHotEncoder\n",
    "from sklearn.linear_model import SGDRegressor\n",
    "from sklearn.model_selection import train_test_split\n",
    "from sklearn.metrics import mean_absolute_error\n",
    "\n",
    "enc = OneHotEncoder(handle_unknown=\"ignore\")\n",
    "\n",
    "df = pd.read_csv(\"./true_car_listings.csv\").sample(n=300000)\n",
    "df[\"state\"] = df[\"state\"].str.strip()\n",
    "df[\"make\"] = df[\"make\"].str.strip()\n",
    "df[\"model\"] = df[\"model\"].str.strip()\n",
    "cat = df[[\"state\", \"make\", \"model\"]]\n",
    "enc.fit(cat)\n",
    "\n",
    "with open(\"features_encoder.pkl\", \"wb\") as encoder_file:\n",
    "    pickle.dump(enc, encoder_file)\n",
    "\n",
    "one_hot_vec = enc.transform(cat).toarray()\n",
    "\n",
    "X = np.hstack((one_hot_vec, df[\"year\"].values[:, None], df[\"mileage\"].values[:, None]))\n",
    "print(X.shape)\n",
    "y = df[\"price\"].values\n",
    "X_train, X_test, y_train, y_test = train_test_split(X, y, test_size=0.33, random_state=42)\n"
   ]
  },
  {
   "cell_type": "code",
   "execution_count": 23,
   "metadata": {},
   "outputs": [
    {
     "name": "stdout",
     "output_type": "stream",
     "text": [
      "MAE avec le SGD : 6.589579812110103e+17\n"
     ]
    }
   ],
   "source": [
    "# Test du SGDRegressor\n",
    "model = SGDRegressor()\n",
    "\n",
    "model.fit(X_train, y_train)\n",
    "y_pred = model.predict(X_test)\n",
    "sgd_mae = mean_absolute_error(y_test, y_pred)\n",
    "print(f\"MAE avec le SGD : {sgd_mae}\")"
   ]
  },
  {
   "cell_type": "code",
   "execution_count": 34,
   "metadata": {},
   "outputs": [
    {
     "name": "stdout",
     "output_type": "stream",
     "text": [
      "Epoch 1/150\n",
      "1340/1340 [==============================] - 7s 5ms/step - loss: 8685.3486 - mean_absolute_percentage_error: 42.6253\n",
      "Epoch 2/150\n",
      "1340/1340 [==============================] - 6s 4ms/step - loss: 7902.3359 - mean_absolute_percentage_error: 38.7273\n",
      "Epoch 3/150\n",
      "1340/1340 [==============================] - 6s 4ms/step - loss: 7848.4287 - mean_absolute_percentage_error: 38.4163\n",
      "Epoch 4/150\n",
      "1340/1340 [==============================] - 6s 4ms/step - loss: 7790.5034 - mean_absolute_percentage_error: 38.0898\n",
      "Epoch 5/150\n",
      "1340/1340 [==============================] - 6s 4ms/step - loss: 7719.5410 - mean_absolute_percentage_error: 37.8598\n",
      "Epoch 6/150\n",
      "1340/1340 [==============================] - 6s 4ms/step - loss: 7433.1187 - mean_absolute_percentage_error: 36.2245\n",
      "Epoch 7/150\n",
      "1340/1340 [==============================] - 6s 4ms/step - loss: 6655.7402 - mean_absolute_percentage_error: 31.9924\n",
      "Epoch 8/150\n",
      "1340/1340 [==============================] - 6s 5ms/step - loss: 6083.1528 - mean_absolute_percentage_error: 29.1562\n",
      "Epoch 9/150\n",
      "1340/1340 [==============================] - 6s 5ms/step - loss: 5689.1924 - mean_absolute_percentage_error: 27.1830\n",
      "Epoch 10/150\n",
      "1340/1340 [==============================] - 6s 5ms/step - loss: 5406.2754 - mean_absolute_percentage_error: 25.9231\n",
      "Epoch 11/150\n",
      "1340/1340 [==============================] - 6s 5ms/step - loss: 5187.1621 - mean_absolute_percentage_error: 24.9257\n",
      "Epoch 12/150\n",
      "1340/1340 [==============================] - 6s 5ms/step - loss: 4965.4639 - mean_absolute_percentage_error: 23.8160\n",
      "Epoch 13/150\n",
      "1340/1340 [==============================] - 6s 4ms/step - loss: 4886.7661 - mean_absolute_percentage_error: 23.5241\n",
      "Epoch 14/150\n",
      "1340/1340 [==============================] - 6s 5ms/step - loss: 4763.0396 - mean_absolute_percentage_error: 23.0497\n",
      "Epoch 15/150\n",
      "1340/1340 [==============================] - 6s 5ms/step - loss: 4615.6611 - mean_absolute_percentage_error: 22.3796\n",
      "Epoch 16/150\n",
      "1340/1340 [==============================] - 6s 5ms/step - loss: 4588.4819 - mean_absolute_percentage_error: 22.3011\n",
      "Epoch 17/150\n",
      "1340/1340 [==============================] - 7s 5ms/step - loss: 4512.3457 - mean_absolute_percentage_error: 22.1147\n",
      "Epoch 18/150\n",
      "1340/1340 [==============================] - 6s 5ms/step - loss: 4384.2856 - mean_absolute_percentage_error: 21.4989\n",
      "Epoch 19/150\n",
      "1340/1340 [==============================] - 6s 5ms/step - loss: 4277.8408 - mean_absolute_percentage_error: 21.1184\n",
      "Epoch 20/150\n",
      "1340/1340 [==============================] - 6s 5ms/step - loss: 4115.6753 - mean_absolute_percentage_error: 20.3058\n",
      "Epoch 21/150\n",
      "1340/1340 [==============================] - 7s 5ms/step - loss: 4081.1042 - mean_absolute_percentage_error: 20.2474\n",
      "Epoch 22/150\n",
      "1340/1340 [==============================] - 7s 5ms/step - loss: 4072.8196 - mean_absolute_percentage_error: 20.2565\n",
      "Epoch 23/150\n",
      "1340/1340 [==============================] - 6s 5ms/step - loss: 4078.5701 - mean_absolute_percentage_error: 20.4183\n",
      "Epoch 24/150\n",
      "1340/1340 [==============================] - 6s 5ms/step - loss: 3969.7717 - mean_absolute_percentage_error: 19.8719\n",
      "Epoch 25/150\n",
      "1340/1340 [==============================] - 6s 5ms/step - loss: 4005.6545 - mean_absolute_percentage_error: 20.1124\n",
      "Epoch 26/150\n",
      "1340/1340 [==============================] - 6s 5ms/step - loss: 3952.5703 - mean_absolute_percentage_error: 19.8689\n",
      "Epoch 27/150\n",
      "1340/1340 [==============================] - 6s 5ms/step - loss: 3816.6611 - mean_absolute_percentage_error: 19.1127\n",
      "Epoch 28/150\n",
      "1340/1340 [==============================] - 7s 5ms/step - loss: 3852.0962 - mean_absolute_percentage_error: 19.3560\n",
      "Epoch 29/150\n",
      "1340/1340 [==============================] - 7s 5ms/step - loss: 3864.7986 - mean_absolute_percentage_error: 19.4041\n",
      "Epoch 30/150\n",
      "1340/1340 [==============================] - 7s 5ms/step - loss: 3829.3123 - mean_absolute_percentage_error: 19.2205\n",
      "2063/2063 [==============================] - 6s 3ms/step - loss: 3767.7000 - mean_absolute_percentage_error: 21.5206\n"
     ]
    }
   ],
   "source": [
    "# Test avec un réseau de neurones\n",
    "from tensorflow.keras.models import Sequential\n",
    "from tensorflow.keras.layers import Dense\n",
    "from tensorflow.keras.callbacks import EarlyStopping\n",
    "\n",
    "callback = EarlyStopping(monitor='loss', patience=3)\n",
    "\n",
    "# define the keras model\n",
    "model = Sequential()\n",
    "model.add(Dense(100, input_shape=(X.shape[1],), activation='relu'))\n",
    "model.add(Dense(120, activation='relu'))\n",
    "model.add(Dense(1, activation='linear'))\n",
    "model.compile(loss='mean_absolute_error', optimizer='adam', metrics=['mean_absolute_error'])\n",
    "model.fit(X_train, y_train, epochs=150, batch_size=100, callbacks=[callback])\n",
    "dnn_mae = model.evaluate(X_test, y_test)[0]"
   ]
  },
  {
   "cell_type": "code",
   "execution_count": 32,
   "metadata": {},
   "outputs": [
    {
     "name": "stdout",
     "output_type": "stream",
     "text": [
      "MAE avec le DNN : 3530.277587890625\n"
     ]
    }
   ],
   "source": [
    "print(f\"MAE avec le DNN : {dnn_mae}\")"
   ]
  }
 ],
 "metadata": {
  "kernelspec": {
   "display_name": "Python 3",
   "language": "python",
   "name": "python3"
  },
  "language_info": {
   "codemirror_mode": {
    "name": "ipython",
    "version": 3
   },
   "file_extension": ".py",
   "mimetype": "text/x-python",
   "name": "python",
   "nbconvert_exporter": "python",
   "pygments_lexer": "ipython3",
   "version": "3.10.12"
  }
 },
 "nbformat": 4,
 "nbformat_minor": 2
}
