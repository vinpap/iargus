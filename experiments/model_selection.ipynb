{
 "cells": [
  {
   "cell_type": "code",
   "execution_count": null,
   "metadata": {},
   "outputs": [],
   "source": []
  },
  {
   "cell_type": "markdown",
   "metadata": {},
   "source": [
    "Modèles à tester : \n",
    "- Régression linéaire\n",
    "- SGD\n",
    "- DNN"
   ]
  },
  {
   "cell_type": "code",
   "execution_count": 22,
   "metadata": {},
   "outputs": [
    {
     "name": "stdout",
     "output_type": "stream",
     "text": [
      "(200000, 707)\n"
     ]
    }
   ],
   "source": [
    "# Chargement des données\n",
    "import numpy as np\n",
    "import pandas as pd\n",
    "from sklearn.preprocessing import OneHotEncoder\n",
    "from sklearn.linear_model import SGDRegressor\n",
    "from sklearn.model_selection import train_test_split\n",
    "from sklearn.metrics import mean_absolute_error\n",
    "\n",
    "enc = OneHotEncoder()\n",
    "\n",
    "df = pd.read_csv(\"./true_car_listings.csv\").iloc[:200000]\n",
    "cat = df[[\"State\", \"Make\", \"Model\"]]\n",
    "enc.fit(cat)\n",
    "\n",
    "one_hot_vec = enc.transform(cat).toarray()\n",
    "\n",
    "X = np.hstack((one_hot_vec, df[\"Year\"].values[:, None], df[\"Mileage\"].values[:, None]))\n",
    "print(X.shape)\n",
    "y = df[\"Price\"].values\n",
    "X_train, X_test, y_train, y_test = train_test_split(X, y, test_size=0.33, random_state=42)\n"
   ]
  },
  {
   "cell_type": "code",
   "execution_count": 23,
   "metadata": {},
   "outputs": [
    {
     "name": "stdout",
     "output_type": "stream",
     "text": [
      "MAE avec le SGD : 6.589579812110103e+17\n"
     ]
    }
   ],
   "source": [
    "# Test du SGDRegressor\n",
    "model = SGDRegressor()\n",
    "\n",
    "model.fit(X_train, y_train)\n",
    "y_pred = model.predict(X_test)\n",
    "sgd_mae = mean_absolute_error(y_test, y_pred)\n",
    "print(f\"MAE avec le SGD : {sgd_mae}\")"
   ]
  },
  {
   "cell_type": "code",
   "execution_count": 33,
   "metadata": {},
   "outputs": [
    {
     "name": "stdout",
     "output_type": "stream",
     "text": [
      "Epoch 1/150\n",
      "1340/1340 [==============================] - 7s 4ms/step - loss: 8465.2949 - mean_absolute_error: 8465.2949\n",
      "Epoch 2/150\n",
      "1340/1340 [==============================] - 6s 5ms/step - loss: 7920.3936 - mean_absolute_error: 7920.3940\n",
      "Epoch 3/150\n",
      "1340/1340 [==============================] - 6s 4ms/step - loss: 7852.6777 - mean_absolute_error: 7852.6777\n",
      "Epoch 4/150\n",
      "1340/1340 [==============================] - 6s 5ms/step - loss: 7769.4580 - mean_absolute_error: 7769.4580\n",
      "Epoch 5/150\n",
      "1340/1340 [==============================] - 5s 4ms/step - loss: 7457.4536 - mean_absolute_error: 7457.4536\n",
      "Epoch 6/150\n",
      "1340/1340 [==============================] - 5s 4ms/step - loss: 6512.8516 - mean_absolute_error: 6512.8516\n",
      "Epoch 7/150\n",
      "1340/1340 [==============================] - 4s 3ms/step - loss: 5852.7129 - mean_absolute_error: 5852.7129\n",
      "Epoch 8/150\n",
      "1340/1340 [==============================] - 5s 3ms/step - loss: 5550.0371 - mean_absolute_error: 5550.0366\n",
      "Epoch 9/150\n",
      "1340/1340 [==============================] - 5s 3ms/step - loss: 5287.4214 - mean_absolute_error: 5287.4214\n",
      "Epoch 10/150\n",
      "1340/1340 [==============================] - 5s 3ms/step - loss: 5059.7393 - mean_absolute_error: 5059.7393\n",
      "Epoch 11/150\n",
      "1340/1340 [==============================] - 5s 4ms/step - loss: 4999.5171 - mean_absolute_error: 4999.5171\n",
      "Epoch 12/150\n",
      "1340/1340 [==============================] - 4s 3ms/step - loss: 4885.6616 - mean_absolute_error: 4885.6616\n",
      "Epoch 13/150\n",
      "1340/1340 [==============================] - 4s 3ms/step - loss: 4690.6514 - mean_absolute_error: 4690.6514\n",
      "Epoch 14/150\n",
      "1340/1340 [==============================] - 4s 3ms/step - loss: 4537.1997 - mean_absolute_error: 4537.1997\n",
      "Epoch 15/150\n",
      "1340/1340 [==============================] - 4s 3ms/step - loss: 4530.1445 - mean_absolute_error: 4530.1445\n",
      "Epoch 16/150\n",
      "1340/1340 [==============================] - 4s 3ms/step - loss: 4487.0513 - mean_absolute_error: 4487.0518\n",
      "Epoch 17/150\n",
      "1340/1340 [==============================] - 4s 3ms/step - loss: 4313.3926 - mean_absolute_error: 4313.3926\n",
      "Epoch 18/150\n",
      "1340/1340 [==============================] - 4s 3ms/step - loss: 4140.0630 - mean_absolute_error: 4140.0630\n",
      "Epoch 19/150\n",
      "1340/1340 [==============================] - 4s 3ms/step - loss: 4281.6729 - mean_absolute_error: 4281.6729\n",
      "Epoch 20/150\n",
      "1340/1340 [==============================] - 4s 3ms/step - loss: 4185.8599 - mean_absolute_error: 4185.8599\n",
      "Epoch 21/150\n",
      "1340/1340 [==============================] - 4s 3ms/step - loss: 4119.0781 - mean_absolute_error: 4119.0781\n",
      "Epoch 22/150\n",
      "1340/1340 [==============================] - 4s 3ms/step - loss: 4174.0049 - mean_absolute_error: 4174.0049\n",
      "Epoch 23/150\n",
      "1340/1340 [==============================] - 5s 4ms/step - loss: 4141.6602 - mean_absolute_error: 4141.6602\n",
      "Epoch 24/150\n",
      "1340/1340 [==============================] - 5s 4ms/step - loss: 3968.5776 - mean_absolute_error: 3968.5776\n",
      "Epoch 25/150\n",
      "1340/1340 [==============================] - 5s 4ms/step - loss: 3983.8611 - mean_absolute_error: 3983.8611\n",
      "Epoch 26/150\n",
      "1340/1340 [==============================] - 5s 4ms/step - loss: 3956.8035 - mean_absolute_error: 3956.8037\n",
      "Epoch 27/150\n",
      "1340/1340 [==============================] - 10s 8ms/step - loss: 4045.7175 - mean_absolute_error: 4045.7175\n",
      "Epoch 28/150\n",
      "1340/1340 [==============================] - 9s 7ms/step - loss: 4066.4937 - mean_absolute_error: 4066.4937\n",
      "Epoch 29/150\n",
      "1340/1340 [==============================] - 6s 4ms/step - loss: 3950.0732 - mean_absolute_error: 3950.0732\n",
      "Epoch 30/150\n",
      "1340/1340 [==============================] - 4s 3ms/step - loss: 3868.2229 - mean_absolute_error: 3868.2229\n",
      "Epoch 31/150\n",
      "1340/1340 [==============================] - 4s 3ms/step - loss: 3926.1724 - mean_absolute_error: 3926.1724\n",
      "Epoch 32/150\n",
      "1340/1340 [==============================] - 4s 3ms/step - loss: 3919.1292 - mean_absolute_error: 3919.1292\n",
      "Epoch 33/150\n",
      "1340/1340 [==============================] - 4s 3ms/step - loss: 3866.7219 - mean_absolute_error: 3866.7219\n",
      "Epoch 34/150\n",
      "1340/1340 [==============================] - 4s 3ms/step - loss: 3845.7827 - mean_absolute_error: 3845.7825\n",
      "Epoch 35/150\n",
      "1340/1340 [==============================] - 4s 3ms/step - loss: 3868.8923 - mean_absolute_error: 3868.8923\n",
      "Epoch 36/150\n",
      "1340/1340 [==============================] - 5s 4ms/step - loss: 3806.9553 - mean_absolute_error: 3806.9553\n",
      "Epoch 37/150\n",
      "1340/1340 [==============================] - 4s 3ms/step - loss: 3802.5500 - mean_absolute_error: 3802.5500\n",
      "Epoch 38/150\n",
      "1340/1340 [==============================] - 4s 3ms/step - loss: 3810.2869 - mean_absolute_error: 3810.2869\n",
      "Epoch 39/150\n",
      "1340/1340 [==============================] - 4s 3ms/step - loss: 3723.5383 - mean_absolute_error: 3723.5383\n",
      "Epoch 40/150\n",
      "1340/1340 [==============================] - 4s 3ms/step - loss: 3716.7661 - mean_absolute_error: 3716.7661\n",
      "Epoch 41/150\n",
      "1340/1340 [==============================] - 4s 3ms/step - loss: 3771.4373 - mean_absolute_error: 3771.4373\n",
      "Epoch 42/150\n",
      "1340/1340 [==============================] - 4s 3ms/step - loss: 3705.1594 - mean_absolute_error: 3705.1594\n",
      "Epoch 43/150\n",
      "1340/1340 [==============================] - 5s 3ms/step - loss: 3701.3992 - mean_absolute_error: 3701.3992\n",
      "Epoch 44/150\n",
      "1340/1340 [==============================] - 5s 3ms/step - loss: 3727.8674 - mean_absolute_error: 3727.8674\n",
      "Epoch 45/150\n",
      "1340/1340 [==============================] - 4s 3ms/step - loss: 3681.5955 - mean_absolute_error: 3681.5955\n",
      "Epoch 46/150\n",
      "1340/1340 [==============================] - 4s 3ms/step - loss: 3704.5916 - mean_absolute_error: 3704.5916\n",
      "Epoch 47/150\n",
      "1340/1340 [==============================] - 4s 3ms/step - loss: 3606.5208 - mean_absolute_error: 3606.5208\n",
      "Epoch 48/150\n",
      "1340/1340 [==============================] - 5s 4ms/step - loss: 3613.9966 - mean_absolute_error: 3613.9966\n",
      "Epoch 49/150\n",
      "1340/1340 [==============================] - 5s 4ms/step - loss: 3674.0862 - mean_absolute_error: 3674.0862\n",
      "Epoch 50/150\n",
      "1340/1340 [==============================] - 7s 5ms/step - loss: 3681.1682 - mean_absolute_error: 3681.1682\n",
      "2063/2063 [==============================] - 4s 2ms/step - loss: 3612.6582 - mean_absolute_error: 3612.6582\n"
     ]
    }
   ],
   "source": [
    "# Test avec un réseau de neurones\n",
    "from tensorflow.keras.models import Sequential\n",
    "from tensorflow.keras.layers import Dense\n",
    "from tensorflow.keras.callbacks import EarlyStopping\n",
    "\n",
    "callback = EarlyStopping(monitor='loss', patience=3)\n",
    "\n",
    "# define the keras model\n",
    "model = Sequential()\n",
    "model.add(Dense(100, input_shape=(X.shape[1],), activation='relu'))\n",
    "model.add(Dense(120, activation='relu'))\n",
    "model.add(Dense(1, activation='linear'))\n",
    "model.compile(loss='mean_absolute_error', optimizer='adam', metrics=['mean_absolute_error'])\n",
    "model.fit(X_train, y_train, epochs=150, batch_size=100, callbacks=[callback])\n",
    "dnn_mae = model.evaluate(X_test, y_test)[0]"
   ]
  },
  {
   "cell_type": "code",
   "execution_count": 32,
   "metadata": {},
   "outputs": [
    {
     "name": "stdout",
     "output_type": "stream",
     "text": [
      "MAE avec le DNN : 3530.277587890625\n"
     ]
    }
   ],
   "source": [
    "print(f\"MAE avec le DNN : {dnn_mae}\")"
   ]
  }
 ],
 "metadata": {
  "kernelspec": {
   "display_name": "Python 3",
   "language": "python",
   "name": "python3"
  },
  "language_info": {
   "codemirror_mode": {
    "name": "ipython",
    "version": 3
   },
   "file_extension": ".py",
   "mimetype": "text/x-python",
   "name": "python",
   "nbconvert_exporter": "python",
   "pygments_lexer": "ipython3",
   "version": "3.10.12"
  }
 },
 "nbformat": 4,
 "nbformat_minor": 2
}
